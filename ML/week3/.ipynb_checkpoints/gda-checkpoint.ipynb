{
 "cells": [
  {
   "cell_type": "code",
   "execution_count": 1,
   "metadata": {},
   "outputs": [],
   "source": [
    "import imageio\n",
    "import glob"
   ]
  },
  {
   "cell_type": "code",
   "execution_count": 2,
   "metadata": {},
   "outputs": [
    {
     "name": "stdout",
     "output_type": "stream",
     "text": [
      "[[[138 106 101]\n",
      "  [138 108 100]\n",
      "  [132 102 100]\n",
      "  ...\n",
      "  [142 106 112]\n",
      "  [142 105 108]\n",
      "  [147 109 113]]\n",
      "\n",
      " [[139 104 103]\n",
      "  [141 106 100]\n",
      "  [140 104 101]\n",
      "  ...\n",
      "  [147 110 121]\n",
      "  [144 110 112]\n",
      "  [144 111 114]]\n",
      "\n",
      " [[143 107 102]\n",
      "  [142 107 102]\n",
      "  [143 106 104]\n",
      "  ...\n",
      "  [148 113 120]\n",
      "  [148 115 119]\n",
      "  [146 113 112]]\n",
      "\n",
      " ...\n",
      "\n",
      " [[147 110 111]\n",
      "  [144 110 112]\n",
      "  [141 108 116]\n",
      "  ...\n",
      "  [153 119 127]\n",
      "  [159 124 130]\n",
      "  [162 129 129]]\n",
      "\n",
      " [[144 108 118]\n",
      "  [145 110 114]\n",
      "  [146 108 110]\n",
      "  ...\n",
      "  [156 117 124]\n",
      "  [161 123 131]\n",
      "  [164 129 133]]\n",
      "\n",
      " [[143 107 120]\n",
      "  [146 108 114]\n",
      "  [146 108 105]\n",
      "  ...\n",
      "  [155 120 122]\n",
      "  [157 122 129]\n",
      "  [165 132 139]]]\n"
     ]
    }
   ],
   "source": [
    "im = imageio.imread('negatives/n01.png')\n",
    "print(im)"
   ]
  }
 ],
 "metadata": {
  "kernelspec": {
   "display_name": "Python 3",
   "language": "python",
   "name": "python3"
  },
  "language_info": {
   "codemirror_mode": {
    "name": "ipython",
    "version": 3
   },
   "file_extension": ".py",
   "mimetype": "text/x-python",
   "name": "python",
   "nbconvert_exporter": "python",
   "pygments_lexer": "ipython3",
   "version": "3.7.3"
  }
 },
 "nbformat": 4,
 "nbformat_minor": 2
}
