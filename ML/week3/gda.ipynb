{
 "cells": [
  {
   "cell_type": "code",
   "execution_count": 5,
   "metadata": {},
   "outputs": [],
   "source": [
    "import imageio\n",
    "import glob\n",
    "\n",
    "from matplotlib import pyplot as plt\n",
    "import math\n",
    "import numpy as np\n",
    "\n",
    "import sys\n",
    "\n",
    "if not sys.warnoptions:\n",
    "    import warnings\n",
    "    warnings.simplefilter(\"ignore\")"
   ]
  },
  {
   "cell_type": "code",
   "execution_count": 2,
   "metadata": {},
   "outputs": [],
   "source": [
    "def sigmoid(z):\n",
    "    return 1 / (1 + math.e ** -z)\n",
    "\n",
    "def predict(features, weights):\n",
    "    z = weights[-1]\n",
    "    for i in range(features.shape[1]):\n",
    "        z += features[:,i] * weights[i]\n",
    "    return sigmoid(z)\n",
    "\n",
    "def updateWeights(features, labels, thetas, alpha):\n",
    "    predictions = predict(features, thetas)\n",
    "    for i in range(features.shape[1]):\n",
    "        thetas[i] += alpha * np.sum(np.dot((labels - predictions), features[:,i]))\n",
    "    thetas[-1] += alpha * np.sum(labels - predictions)\n",
    "    return thetas\n",
    "\n",
    "def train(features, labels, thetas, alpha, iters):\n",
    "    for i in range(iters):\n",
    "        thetas = updateWeights(features, labels, thetas, alpha)\n",
    "\n",
    "    return thetas\n",
    "\n",
    "def meanColorFeature(imgArray):\n",
    "    return np.mean(imgArray, axis=(0, 1))"
   ]
  },
  {
   "cell_type": "code",
   "execution_count": 3,
   "metadata": {},
   "outputs": [],
   "source": [
    "negativeMeans = []\n",
    "for image_path in glob.glob(\"negatives/*.png\"):\n",
    "    img = imageio.imread(image_path)\n",
    "    mean = meanColorFeature(img)\n",
    "    negativeMeans.append(mean)\n",
    "\n",
    "negativeMeans = np.array(negativeMeans)\n",
    "negativeMeans = np.c_[ negativeMeans, np.zeros(len(negativeMeans)) ] \n",
    "\n",
    "positiveMeans = []\n",
    "for image_path in glob.glob(\"negatives/*.png\"):\n",
    "    img = imageio.imread(image_path)\n",
    "    mean = meanColorFeature(img)\n",
    "    positiveMeans.append(mean)\n",
    "\n",
    "positiveMeans = np.array(positiveMeans)\n",
    "positiveMeans = np.c_[ positiveMeans, np.ones(len(positiveMeans)) ] \n",
    "\n",
    "colorMeans = np.concatenate((negativeMeans, positiveMeans))\n",
    "np.random.shuffle(colorMeans)\n",
    "\n",
    "features = colorMeans[:, :3]\n",
    "labels = colorMeans[:, 3]"
   ]
  },
  {
   "cell_type": "code",
   "execution_count": 6,
   "metadata": {
    "scrolled": false
   },
   "outputs": [
    {
     "name": "stdout",
     "output_type": "stream",
     "text": [
      "[-96.88909874 -73.73080421 -74.96778055  -0.59546445]\n"
     ]
    }
   ],
   "source": [
    "# init weights randomly\n",
    "thetas = np.random.normal(0, 0.01, 4)\n",
    "\n",
    "\n",
    "# train model\n",
    "thetas = train(features, labels, thetas, 0.25, 100)\n",
    "\n",
    "print(thetas)"
   ]
  }
 ],
 "metadata": {
  "kernelspec": {
   "display_name": "Python 3",
   "language": "python",
   "name": "python3"
  },
  "language_info": {
   "codemirror_mode": {
    "name": "ipython",
    "version": 3
   },
   "file_extension": ".py",
   "mimetype": "text/x-python",
   "name": "python",
   "nbconvert_exporter": "python",
   "pygments_lexer": "ipython3",
   "version": "3.7.3"
  }
 },
 "nbformat": 4,
 "nbformat_minor": 2
}
