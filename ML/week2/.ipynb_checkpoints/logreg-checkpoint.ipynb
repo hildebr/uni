{
 "cells": [
  {
   "cell_type": "code",
   "execution_count": 1,
   "metadata": {},
   "outputs": [],
   "source": [
    "from matplotlib import pyplot as plt\n",
    "import math\n",
    "import numpy as np"
   ]
  },
  {
   "cell_type": "code",
   "execution_count": 2,
   "metadata": {},
   "outputs": [],
   "source": [
    "def sigmoid(z):\n",
    "    return 1 / (1 + math.e ** -z)\n",
    "\n",
    "def predict(features, weights):\n",
    "    z = features[:,0] * weights[0] + features[:,1] * weights[1] + weights[2]\n",
    "    return sigmoid(z)\n",
    "\n",
    "def updateWeights(features, labels, thetas, alpha):\n",
    "    predictions = predict(features, thetas)\n",
    "    thetas[0] += alpha * np.sum(np.dot((labels - predictions), features[:,0]))\n",
    "    thetas[1] += alpha * np.sum(np.dot((labels - predictions), features[:,1]))\n",
    "    thetas[2] += alpha * np.sum(labels - predictions)\n",
    "    return thetas\n",
    "\n",
    "def train(features, labels, thetas, alpha, iters):\n",
    "    for i in range(iters):\n",
    "        thetas = updateWeights(features, labels, thetas, alpha)\n",
    "\n",
    "    return thetas\n",
    "\n",
    "def getClassifierLine(features, thetas):\n",
    "    return (thetas[2] + thetas[0] * features[:, 0]) * (-1 / thetas[1])"
   ]
  },
  {
   "cell_type": "code",
   "execution_count": 3,
   "metadata": {
    "scrolled": false
   },
   "outputs": [
    {
     "data": {
      "image/png": "[encoded data removed]",
      "text/plain": [
       "<Figure size 432x288 with 1 Axes>"
      ]
     },
     "metadata": {
      "needs_background": "light"
     },
     "output_type": "display_data"
    }
   ],
   "source": [
    "# load data\n",
    "data = np.loadtxt(fname = 'data.txt')\n",
    "# split features and labels\n",
    "features = data[:, :2]\n",
    "labels = data[:, 2]\n",
    "\n",
    "# init weights randomly\n",
    "thetas = np.random.normal(0, 0.01, 3)\n",
    "# copy baseline for plotting\n",
    "old_thethas = np.copy(thetas)\n",
    "\n",
    "# train model\n",
    "thetas = train(features, labels, thetas, 0.25, 100)\n",
    "\n",
    "# plot data and classifier lines\n",
    "fig = plt.figure()\n",
    "plt.scatter(features[:50, 0], features[:50, 1], color='red')\n",
    "plt.scatter(features[50:, 0], features[50:, 1], color='green')\n",
    "plt.plot(features[:, 0], getClassifierLine(features, thetas), 'k')\n",
    "plt.plot(features[:, 0], getClassifierLine(features, old_thethas))\n",
    "fig.suptitle('Model')\n",
    "plt.show()"
   ]
  }
 ],
 "metadata": {
  "kernelspec": {
   "display_name": "Python 3",
   "language": "python",
   "name": "python3"
  },
  "language_info": {
   "codemirror_mode": {
    "name": "ipython",
    "version": 3
   },
   "file_extension": ".py",
   "mimetype": "text/x-python",
   "name": "python",
   "nbconvert_exporter": "python",
   "pygments_lexer": "ipython3",
   "version": "3.7.3"
  }
 },
 "nbformat": 4,
 "nbformat_minor": 2
}
