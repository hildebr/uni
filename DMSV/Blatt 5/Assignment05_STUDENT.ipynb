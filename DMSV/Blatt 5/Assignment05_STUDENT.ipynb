{
 "cells": [
  {
   "cell_type": "code",
   "execution_count": null,
   "metadata": {
    "collapsed": true
   },
   "outputs": [],
   "source": [
    "import numpy as np\n",
    "from matplotlib import pylab as plt\n",
    "import scipy.signal as sc\n",
    "from IPython.display import Audio, display\n",
    "import audioio\n",
    "%matplotlib inline"
   ]
  },
  {
   "cell_type": "markdown",
   "metadata": {},
   "source": [
    "We have already applied different impulse responses using convolution. Here we want to derive the impulse response for an ideal low pass filter. We then want to discretize the theoretical impulse response and truncate it to an implementable length. Ultimately, we will reduce the introduced artifacts, which are a byproduct of the truncation, by windowing."
   ]
  },
  {
   "cell_type": "code",
   "execution_count": null,
   "metadata": {
    "collapsed": true
   },
   "outputs": [],
   "source": [
    "# Complete this function\n",
    "def computeLowpassIR(n, Fc, Fs):\n",
    "    return #FILL THIS PART"
   ]
  },
  {
   "cell_type": "code",
   "execution_count": null,
   "metadata": {
    "collapsed": true
   },
   "outputs": [],
   "source": [
    "#==========================\n",
    "# Play with these!\n",
    "Fc = 1000.\n",
    "Fs = 44100.\n",
    "N_SAMPLES = 200\n",
    "#==========================\n",
    "\n",
    "n = np.linspace(-N_SAMPLES/2, N_SAMPLES/2 - 1, num=N_SAMPLES)\n",
    "\n",
    "# compute the low pass impulse response\n",
    "ir = computeLowpassIR(n, Fc, Fs)\n",
    "\n",
    "# plot the non causal impulse response and a hanning window of the same length\n",
    "plt.subplot(211)\n",
    "plt.plot(n, ir)\n",
    "plt.ylabel('h[n]')\n",
    "plt.subplot(212)\n",
    "plt.plot(n, np.hanning(len(ir)), '-k')\n",
    "plt.xlabel('n')\n",
    "plt.ylabel('w[n]')"
   ]
  },
  {
   "cell_type": "code",
   "execution_count": null,
   "metadata": {
    "collapsed": true
   },
   "outputs": [],
   "source": [
    "# Plot the frequency response of the realized low pass, with and without the windowing\n",
    "w, h = sc.freqz(ir) #non windowed version\n",
    "_, hWin = sc.freqz(ir * np.hanning(len(ir)))#windowed version\n",
    "\n",
    "plt.semilogx(Fs/2*w/np.pi, 20*np.log10(np.abs(h)))\n",
    "plt.semilogx(Fs/2*w/np.pi, 20*np.log10(np.abs(hWin)), '--k')\n",
    "plt.xlim([10, Fs/2])\n",
    "plt.ylim([-144, 6])\n",
    "plt.xlabel('f [Hz]')\n",
    "plt.ylabel('|H(f)| [dB]')"
   ]
  },
  {
   "cell_type": "code",
   "execution_count": null,
   "metadata": {
    "collapsed": true
   },
   "outputs": [],
   "source": [
    "# Generate 5 seconds of random noise\n",
    "noise = np.random.rand(int(5*Fs))"
   ]
  },
  {
   "cell_type": "code",
   "execution_count": null,
   "metadata": {
    "collapsed": true
   },
   "outputs": [],
   "source": [
    "# Filter the noise with both filters\n",
    "filtered = np.convolve(noise, ir)\n",
    "filteredWin = np.convolve(noise, ir * np.hanning(len(ir)))"
   ]
  },
  {
   "cell_type": "code",
   "execution_count": null,
   "metadata": {
    "collapsed": true
   },
   "outputs": [],
   "source": [
    "Audio(noise, rate=Fs) # listen to the noise"
   ]
  },
  {
   "cell_type": "code",
   "execution_count": null,
   "metadata": {
    "collapsed": true
   },
   "outputs": [],
   "source": [
    "Audio(filtered, rate=Fs) # listen to the filter without windowing in action"
   ]
  },
  {
   "cell_type": "code",
   "execution_count": null,
   "metadata": {
    "collapsed": true
   },
   "outputs": [],
   "source": [
    "Audio(filteredWin, rate=Fs) # listen to the windowed filter in action"
   ]
  },
  {
   "cell_type": "markdown",
   "metadata": {},
   "source": [
    "# a speech example"
   ]
  },
  {
   "cell_type": "code",
   "execution_count": null,
   "metadata": {},
   "outputs": [],
   "source": [
    "x, Fs = audioio.wavread(\"sx44.wav\")"
   ]
  },
  {
   "cell_type": "code",
   "execution_count": null,
   "metadata": {},
   "outputs": [],
   "source": [
    "Audio(x, rate=Fs)"
   ]
  },
  {
   "cell_type": "code",
   "execution_count": null,
   "metadata": {},
   "outputs": [],
   "source": [
    "# Filter the noise with both filters\n",
    "filtered = np.convolve(x, ir)\n",
    "filteredWin = np.convolve(x, ir * np.hanning(len(ir)))"
   ]
  },
  {
   "cell_type": "code",
   "execution_count": null,
   "metadata": {
    "collapsed": true
   },
   "outputs": [],
   "source": [
    "Audio(filtered, rate=Fs) # listen to the filter without windowing in action"
   ]
  },
  {
   "cell_type": "code",
   "execution_count": null,
   "metadata": {
    "collapsed": true
   },
   "outputs": [],
   "source": [
    "Audio(filteredWin, rate=Fs) # listen to the windowed filter in action"
   ]
  },
  {
   "cell_type": "markdown",
   "metadata": {},
   "source": [
    "# a snare example\n",
    "Choose a filter length of N_SAMPLES = 20000 to hear pre-ringing"
   ]
  },
  {
   "cell_type": "code",
   "execution_count": null,
   "metadata": {},
   "outputs": [],
   "source": [
    "x, Fs = audioio.wavread('snare.wav')\n",
    "\n",
    "# Filter the noise with both filters\n",
    "filtered = np.convolve(x, ir)\n",
    "filteredWin = np.convolve(x, ir * np.hanning(len(ir)))"
   ]
  },
  {
   "cell_type": "code",
   "execution_count": null,
   "metadata": {
    "collapsed": true
   },
   "outputs": [],
   "source": [
    "Audio(x, rate=Fs)"
   ]
  },
  {
   "cell_type": "code",
   "execution_count": null,
   "metadata": {
    "collapsed": true
   },
   "outputs": [],
   "source": [
    "Audio(filtered, rate=Fs) # listen to the filter without windowing in action"
   ]
  },
  {
   "cell_type": "code",
   "execution_count": null,
   "metadata": {
    "collapsed": true
   },
   "outputs": [],
   "source": [
    "Audio(filteredWin, rate=Fs) # listen to the windowed filter in action"
   ]
  },
  {
   "cell_type": "code",
   "execution_count": null,
   "metadata": {
    "collapsed": true
   },
   "outputs": [],
   "source": []
  }
 ],
 "metadata": {
  "kernelspec": {
   "display_name": "Python 3",
   "language": "python",
   "name": "python3"
  },
  "language_info": {
   "codemirror_mode": {
    "name": "ipython",
    "version": 3
   },
   "file_extension": ".py",
   "mimetype": "text/x-python",
   "name": "python",
   "nbconvert_exporter": "python",
   "pygments_lexer": "ipython3",
   "version": "3.5.2"
  }
 },
 "nbformat": 4,
 "nbformat_minor": 2
}
