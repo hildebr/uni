{
 "cells": [
  {
   "cell_type": "code",
   "execution_count": 1,
   "metadata": {
    "collapsed": false
   },
   "outputs": [
    {
     "name": "stdout",
     "output_type": "stream",
     "text": [
      "Using matplotlib backend: Qt5Agg\n"
     ]
    }
   ],
   "source": [
    "import numpy as np\n",
    "from scipy import signal as sc\n",
    "import matplotlib.pyplot as plt\n",
    "from __future__ import division\n",
    "%matplotlib"
   ]
  },
  {
   "cell_type": "code",
   "execution_count": 33,
   "metadata": {
    "collapsed": true
   },
   "outputs": [],
   "source": [
    "# Filter design functions\n",
    "def makeLowShelf (fc, Gain, fs):\n",
    "    b = np.zeros (3)\n",
    "    a = np.zeros (3)\n",
    "\n",
    "    K = np.tan(np.pi * fc / fs)#bilinear transform frequency correction\n",
    "\n",
    "    if Gain >= 0:\n",
    "        V = 10.**(Gain / 20.)\n",
    "        Den = (1. + np.sqrt(2.) * K + K**2)\n",
    "        \n",
    "        b[0] = (1. + np.sqrt(2.*V) * K + V*K**2) / Den\n",
    "        b[1] = 2. * (V*K**2 - 1) / Den\n",
    "        b[2] = (1 - np.sqrt(2. * V) * K + V*K**2) / Den\n",
    "        \n",
    "        a[1] = 2.*(K**2 - 1.) / Den\n",
    "        a[2] = (1. - np.sqrt(2.) * K + K**2) / Den\n",
    "    else:\n",
    "        V = 10. ** (Gain / 20.)\n",
    "        Den = (V + np.sqrt(2. * V) * K + K**2.)\n",
    "        \n",
    "        b[0] = V*(1. + np.sqrt(2.) * K + K**2.) / Den\n",
    "        b[1] = 2. * V*(K**2. - 1.) / Den\n",
    "        b[2] = V*(1. - np.sqrt(2.) * K + K**2.) / Den;\n",
    "        \n",
    "        a[1] = 2. * (K**2. - V) / Den\n",
    "        a[2] = (V - np.sqrt(2.*V) * K + K**2.) / Den\n",
    "    \n",
    "    a[0] = 1.\n",
    "    return b, a\n",
    "\n",
    "def makeHighShelf (fc, Gain, fs):\n",
    "    b = np.zeros (3)\n",
    "    a = np.zeros (3)\n",
    "\n",
    "    K = np.tan(np.pi * fc / fs)#bilinear transform frequency correction\n",
    "\n",
    "    if Gain >= 0:\n",
    "        V = 10.**(Gain / 20.)\n",
    "        Den = (1. + np.sqrt(2.) * K + K**2)\n",
    "        \n",
    "        b[0] = (V + np.sqrt(2.*V) * K + K**2) / Den\n",
    "        b[1] = 2. * (K**2 - V) / Den\n",
    "        b[2] = (V - np.sqrt(2. * V) * K + K**2) / Den\n",
    "        \n",
    "        a[1] = 2.*(K**2 - 1.) / Den\n",
    "        a[2] = (1. - np.sqrt(2.) * K + K**2) / Den\n",
    "    else:\n",
    "        V = 10. ** (Gain / 20.)\n",
    "        Den = (1. + np.sqrt(2. * V) * K + V*K**2.)\n",
    "        \n",
    "        b[0] = V*(1. + np.sqrt(2.) * K + K**2.) / Den\n",
    "        b[1] = 2. * V*(K**2. - 1.) / Den\n",
    "        b[2] = V*(1. - np.sqrt(2.) * K + K**2.) / Den;\n",
    "        \n",
    "        a[1] = 2. * (V*K**2. - 1.) / Den\n",
    "        a[2] = (1. - np.sqrt(2.*V) * K + V*K**2.) / Den\n",
    "    \n",
    "    a[0] = 1.\n",
    "    return b, a\n",
    "def makePeakingFilter(fc, Gain, Q, fs):\n",
    "    K = np.tan(np.pi * fc / fs)#bilinear transform frequency correction\n",
    "    V = 10.**(Gain / 20.)\n",
    "\n",
    "    b = np.zeros (3)\n",
    "    a = np.zeros (3)\n",
    "    \n",
    "    if Gain >= 0:\n",
    "        Den = (1. + 1./Q*K + K**2)\n",
    "        \n",
    "        b[0] = (1. + V/Q*K + K**2) / Den\n",
    "        b[1] = 2.*(K**2 - 1.) / Den     \n",
    "        b[2] = (1. - V/Q*K + K**2) / Den        \n",
    "        \n",
    "        a[0] = 1.\n",
    "        a[1] = 2.*(K**2 - 1.) / Den\n",
    "        a[2] = (1. - 1/Q*K + K**2) / Den\n",
    "    else:\n",
    "        Den = (1. + 1./(V*Q)*K + K**2)\n",
    "        \n",
    "        b[0] = (1. + 1/Q*K + K**2) / Den\n",
    "        b[1] = 2.*(K**2 - 1.) / Den     \n",
    "        b[2] = (1. - 1/Q*K + K**2) / Den        \n",
    "        \n",
    "        a[0] = 1.\n",
    "        a[1] = 2.*(K**2 - 1.) / Den\n",
    "        a[2] = (1. - 1/(V*Q)*K + K**2) / Den\n",
    "    return b,a"
   ]
  },
  {
   "cell_type": "code",
   "execution_count": 34,
   "metadata": {
    "collapsed": false
   },
   "outputs": [
    {
     "data": {
      "text/plain": [
       "<matplotlib.text.Text at 0x7fd615cda790>"
      ]
     },
     "execution_count": 34,
     "metadata": {},
     "output_type": "execute_result"
    }
   ],
   "source": [
    "# Example usage of the filter design functions\n",
    "Fs = 44.1e3 # Sample rate\n",
    "Fc = 1e3 # cut off frequency\n",
    "Gain = -10 # yes, it's what it says it is...\n",
    "Q = 2 # Quality factor\n",
    "\n",
    "# b, a = makeHighShelf(Fc, 12, Fs)\n",
    "b, a = makePeakingFilter(Fc, Gain, 2, Fs)\n",
    "\n",
    "w, h = sc.freqz(b, a)\n",
    "plt.semilogx(w/np.pi*Fs/2, 20.*np.log10(np.abs(h) + .0000001))\n",
    "plt.xlim([100, Fs/2])\n",
    "plt.xlabel('f [Hz]')\n",
    "plt.ylabel('|H(f)|')"
   ]
  },
  {
   "cell_type": "code",
   "execution_count": null,
   "metadata": {
    "collapsed": true
   },
   "outputs": [],
   "source": []
  }
 ],
 "metadata": {
  "kernelspec": {
   "display_name": "Python 2",
   "language": "python",
   "name": "python2"
  },
  "language_info": {
   "codemirror_mode": {
    "name": "ipython",
    "version": 2
   },
   "file_extension": ".py",
   "mimetype": "text/x-python",
   "name": "python",
   "nbconvert_exporter": "python",
   "pygments_lexer": "ipython2",
   "version": "2.7.13"
  }
 },
 "nbformat": 4,
 "nbformat_minor": 2
}
